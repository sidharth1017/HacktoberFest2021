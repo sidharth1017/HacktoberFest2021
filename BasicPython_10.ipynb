{
  "nbformat": 4,
  "nbformat_minor": 0,
  "metadata": {
    "colab": {
      "name": "Python_10.ipynb",
      "provenance": [],
      "collapsed_sections": []
    },
    "kernelspec": {
      "name": "python3",
      "display_name": "Python 3"
    }
  },
  "cells": [
    {
      "cell_type": "markdown",
      "metadata": {
        "id": "MW8P3Dws149U",
        "colab_type": "text"
      },
      "source": [
        "# **Working with files and directories**"
      ]
    },
    {
      "cell_type": "code",
      "metadata": {
        "id": "7ZclY3Z4ytDu",
        "colab_type": "code",
        "colab": {}
      },
      "source": [
        "file = open(\"Countries.txt\",\"w\")\n",
        "file.write(\"Italy\\n\")\n",
        "file.write(\"Germany\\n\")\n",
        "file.write(\"Spain\\n\")\n",
        "file.close()\n",
        "# Creates a file called \"Countries.txt\". If one already exists then it will be overwritten with\n",
        "# a new blank file. It will add three lines of data to the file (the \\n forces a new line after\n",
        "# each entry). It will then close the file, allowing the changes to the text file to be saved."
      ],
      "execution_count": null,
      "outputs": []
    },
    {
      "cell_type": "code",
      "metadata": {
        "id": "Wi6hdEWhytKP",
        "colab_type": "code",
        "colab": {
          "base_uri": "https://localhost:8080/",
          "height": 85
        },
        "outputId": "07808717-db4c-41ef-d521-089128bffa12"
      },
      "source": [
        "file = open(\"Countries.txt\",\"r\")\n",
        "print(file.read())\n",
        "# This will open the Countries.txt file in \"read\"\n",
        "# mode and display the entire file."
      ],
      "execution_count": null,
      "outputs": [
        {
          "output_type": "stream",
          "text": [
            "Italy\n",
            "Germany\n",
            "Spain\n",
            "\n"
          ],
          "name": "stdout"
        }
      ]
    },
    {
      "cell_type": "code",
      "metadata": {
        "id": "POjb3KhUytQV",
        "colab_type": "code",
        "colab": {}
      },
      "source": [
        "file = open(\"Countries.txt\",\"a\")\n",
        "file.write(\"France\\n\")\n",
        "file.close()\n",
        "# This will open the Countries.txt file in \"append\"\n",
        "# mode, add another line and then close the file.\n",
        "# If the file.close() line is not included, the\n",
        "# changes will not be saved to the text file."
      ],
      "execution_count": null,
      "outputs": []
    },
    {
      "cell_type": "markdown",
      "metadata": {
        "id": "jDd59gsEEeV_",
        "colab_type": "text"
      },
      "source": [
        "The first type of file we are going to read from is a simple text file with multiple lines of text."
      ]
    },
    {
      "cell_type": "markdown",
      "metadata": {
        "id": "O_yAq_0l3tSo",
        "colab_type": "text"
      },
      "source": [
        "## **Opening files**"
      ]
    },
    {
      "cell_type": "markdown",
      "metadata": {
        "id": "-koUgsAS3z0r",
        "colab_type": "text"
      },
      "source": [
        "Before we can read from any file, we have to open it. \n",
        "\n",
        "Opening a file in Python is very simple and intuitive. \n",
        "\n",
        "In fact, we just need to use the open function. Let's see a quick example:"
      ]
    },
    {
      "cell_type": "code",
      "metadata": {
        "id": "WZRPT4dU1X-v",
        "colab_type": "code",
        "colab": {}
      },
      "source": [
        "# FILE infile;\n",
        "# infile = fopen(\"\", \"\")"
      ],
      "execution_count": null,
      "outputs": []
    },
    {
      "cell_type": "code",
      "metadata": {
        "id": "B9309U1D3Pg-",
        "colab_type": "code",
        "colab": {}
      },
      "source": [
        "help(open)"
      ],
      "execution_count": null,
      "outputs": []
    },
    {
      "cell_type": "code",
      "metadata": {
        "id": "dRLMqstJ1u1c",
        "colab_type": "code",
        "colab": {}
      },
      "source": [
        "fh = open('fables.txt')"
      ],
      "execution_count": null,
      "outputs": []
    },
    {
      "cell_type": "code",
      "metadata": {
        "id": "wtIbFYq_30eT",
        "colab_type": "code",
        "colab": {}
      },
      "source": [
        "fh = open('fables.txt', 'rt') # r: read, t: text\n",
        "for line in fh.readlines():\n",
        "    print(line.strip()) # remove whitespace and print\n",
        "fh.close()"
      ],
      "execution_count": null,
      "outputs": []
    },
    {
      "cell_type": "markdown",
      "metadata": {
        "id": "66lxw0OG6WLp",
        "colab_type": "text"
      },
      "source": [
        "#### The key function for working with files in Python is the **`open()`** function.\n",
        "\n"
      ]
    },
    {
      "cell_type": "markdown",
      "metadata": {
        "id": "P-olggv3FAuN",
        "colab_type": "text"
      },
      "source": [
        "The `open()` function takes two parameters: \n",
        "\n",
        "* filename \n",
        "* mode.\n",
        "\n"
      ]
    },
    {
      "cell_type": "markdown",
      "metadata": {
        "id": "3T6zt_cx6X9U",
        "colab_type": "text"
      },
      "source": [
        "There are four different methods (modes) for opening a file:\n",
        "> `\"r\"` - Read - Default value. Opens a file for reading, error if the file does not exist\n",
        "\n",
        "> `\"a\"` - Append - Opens a file for appending, creates the file if it does not exist\n",
        "\n",
        "> `\"w\"` - Write - Opens a file for writing, creates the file if it does not exist and overwrites the files as an empty file if it already exists.\n",
        "\n",
        ">`\"x\"` - Create - Creates the specified file, returns an error if the file exists"
      ]
    },
    {
      "cell_type": "markdown",
      "metadata": {
        "id": "6wvBl4cU6Z76",
        "colab_type": "text"
      },
      "source": [
        "In addition you can specify if the file should be handled as binary or text mode"
      ]
    },
    {
      "cell_type": "markdown",
      "metadata": {
        "id": "M2VRmnCY6ad5",
        "colab_type": "text"
      },
      "source": [
        "> `\"t\"` - Text - Default value. Text mode\n",
        "\n",
        "> `\"b\"` - Binary - Binary mode (e.g. images)"
      ]
    },
    {
      "cell_type": "markdown",
      "metadata": {
        "id": "dALXcD_E6cRT",
        "colab_type": "text"
      },
      "source": [
        "### **Syntax**"
      ]
    },
    {
      "cell_type": "code",
      "metadata": {
        "id": "qScotmM46iLy",
        "colab_type": "code",
        "colab": {}
      },
      "source": [
        "# To open a file for reading it is enough to specify the name of the file:\n",
        "\n",
        "f = open(\"fables.txt\")"
      ],
      "execution_count": null,
      "outputs": []
    },
    {
      "cell_type": "markdown",
      "metadata": {
        "id": "1859jEwg8PXw",
        "colab_type": "text"
      },
      "source": [
        "The `open()` function returns a file `object`, which has a `read()` method for reading the content of the file:"
      ]
    },
    {
      "cell_type": "code",
      "metadata": {
        "id": "ABq5jnRX6kxa",
        "colab_type": "code",
        "colab": {}
      },
      "source": [
        "# The code above is the same as:\n",
        "\n",
        "f = open(\"fables.txt\", \"rt\")\n",
        "\n",
        "# Because \"r\" for read, and \"t\" for text are the default values, you do not need to specify them."
      ],
      "execution_count": null,
      "outputs": []
    },
    {
      "cell_type": "markdown",
      "metadata": {
        "id": "cR3yxy9C_igV",
        "colab_type": "text"
      },
      "source": [
        "If the file is located in a different location, you will have to specify the file path, like this:"
      ]
    },
    {
      "cell_type": "code",
      "metadata": {
        "id": "f1vQVmr8NZ1P",
        "colab_type": "code",
        "colab": {}
      },
      "source": [
        "f = open(\"/content/fables.txt\", \"rt\")\n",
        "f.close()"
      ],
      "execution_count": null,
      "outputs": []
    },
    {
      "cell_type": "markdown",
      "metadata": {
        "id": "KiB08C8h7jP8",
        "colab_type": "text"
      },
      "source": [
        "**Note: Make sure the file exists, or else you will get an error.**"
      ]
    },
    {
      "cell_type": "markdown",
      "metadata": {
        "id": "TjmjX4icCFLI",
        "colab_type": "text"
      },
      "source": [
        "# **Reading a file**"
      ]
    },
    {
      "cell_type": "code",
      "metadata": {
        "id": "qDTCUG_N7nzM",
        "colab_type": "code",
        "colab": {}
      },
      "source": [
        "print(f.read())"
      ],
      "execution_count": null,
      "outputs": []
    },
    {
      "cell_type": "code",
      "metadata": {
        "id": "sPzw5suT_nrj",
        "colab_type": "code",
        "colab": {}
      },
      "source": [
        "# Open a file on a different location:\n",
        "\n",
        "f = open(\"D:\\\\myfiles\\welcome.txt\", \"r\")\n",
        "print(f.read())"
      ],
      "execution_count": null,
      "outputs": []
    },
    {
      "cell_type": "markdown",
      "metadata": {
        "id": "8yRx4uFn_qIo",
        "colab_type": "text"
      },
      "source": [
        "## **Read Only Parts of the File**"
      ]
    },
    {
      "cell_type": "markdown",
      "metadata": {
        "id": "BUr7xE10_uwh",
        "colab_type": "text"
      },
      "source": [
        "By default the `read()` method returns the whole text, but you can also specify how many characters you want to return:"
      ]
    },
    {
      "cell_type": "code",
      "metadata": {
        "id": "_KxuQ-rQ_yDv",
        "colab_type": "code",
        "colab": {}
      },
      "source": [
        "# Return the 5 first characters of the file:\n",
        "\n",
        "f = open(\"demofile.txt\", \"r\")\n",
        "print(f.read(5))"
      ],
      "execution_count": null,
      "outputs": []
    },
    {
      "cell_type": "markdown",
      "metadata": {
        "id": "A80Ajpcg_0B3",
        "colab_type": "text"
      },
      "source": [
        "## **Read Lines**\n"
      ]
    },
    {
      "cell_type": "markdown",
      "metadata": {
        "id": "quLApJUs_46X",
        "colab_type": "text"
      },
      "source": [
        "You can return one line by using the `readline()` method:\n",
        "\n"
      ]
    },
    {
      "cell_type": "code",
      "metadata": {
        "id": "oZHEaOB6_7BH",
        "colab_type": "code",
        "colab": {}
      },
      "source": [
        "# Read one line of the file:\n",
        "\n",
        "f = open(\"demofile.txt\", \"r\")\n",
        "print(f.readline())"
      ],
      "execution_count": null,
      "outputs": []
    },
    {
      "cell_type": "markdown",
      "metadata": {
        "id": "weVHZXPE__Uq",
        "colab_type": "text"
      },
      "source": [
        "By calling `readline()` two times, you can read the two first lines:\n",
        "\n"
      ]
    },
    {
      "cell_type": "code",
      "metadata": {
        "id": "JxtFLjaRABr4",
        "colab_type": "code",
        "colab": {
          "base_uri": "https://localhost:8080/",
          "height": 85
        },
        "outputId": "34643a09-ab3c-4925-faf6-14aa780df43a"
      },
      "source": [
        "# Read two lines of the file:\n",
        "\n",
        "f = open(\"fables.txt\", \"r\")\n",
        "print(f.readline())\n",
        "print(f.readline())\n"
      ],
      "execution_count": null,
      "outputs": [
        {
          "output_type": "stream",
          "text": [
            "RUSSIAN FOLK-TALES.\n",
            "\n",
            "In a certain kingdom there lived an old couple in great poverty.\n",
            "\n"
          ],
          "name": "stdout"
        }
      ]
    },
    {
      "cell_type": "markdown",
      "metadata": {
        "id": "0n5AbxvfNwez",
        "colab_type": "text"
      },
      "source": [
        "You’ll notice that a line break is inserted after each line. \n",
        "\n",
        "* This is because the `readline()` function adds the `\\n` characters to the end of each line. \n",
        "\n",
        "* If you do not want the extra line between each line of text, you can do `print(firstline, end = '')`. \n",
        "\n",
        "This will remove the `\\n` characters."
      ]
    },
    {
      "cell_type": "code",
      "metadata": {
        "id": "tRz11JC2DuOi",
        "colab_type": "code",
        "colab": {
          "base_uri": "https://localhost:8080/",
          "height": 51
        },
        "outputId": "f1a6ef94-5b38-445b-babd-2706f5a68f79"
      },
      "source": [
        "f = open ('fables.txt', 'r')\n",
        "firstline = f.readline()\n",
        "secondline = f.readline()\n",
        "print(firstline, end='')\n",
        "print(secondline, end='')"
      ],
      "execution_count": null,
      "outputs": [
        {
          "output_type": "stream",
          "text": [
            "RUSSIAN FOLK-TALES.\n",
            "In a certain kingdom there lived an old couple in great poverty.\n"
          ],
          "name": "stdout"
        }
      ]
    },
    {
      "cell_type": "markdown",
      "metadata": {
        "id": "w8mO9hqhRive",
        "colab_type": "text"
      },
      "source": [
        "### **Using a For Loop to Read Text Files**"
      ]
    },
    {
      "cell_type": "markdown",
      "metadata": {
        "id": "nu1yfa2_AEYC",
        "colab_type": "text"
      },
      "source": [
        "By looping through the lines of the file, you can read the whole file, line by line.\n",
        "\n",
        "In fact, the for loop is a more elegant and efficient way to read text files.\n",
        "\n"
      ]
    },
    {
      "cell_type": "code",
      "metadata": {
        "colab_type": "code",
        "id": "MgzslD9q6Nt0",
        "colab": {}
      },
      "source": [
        "f = open('fables.txt', 'r')\n",
        "for x in f.readlines():\n",
        "    print(x.strip()) # remove whitespace and print\n",
        "f.close()"
      ],
      "execution_count": null,
      "outputs": []
    },
    {
      "cell_type": "code",
      "metadata": {
        "id": "EFR5Vqa9AGA6",
        "colab_type": "code",
        "colab": {}
      },
      "source": [
        "# Loop through the file line by line:\n",
        "f = open(\"fables.txt\", \"r\")\n",
        "for x in f:\n",
        "    print(x.strip())\n",
        "f.close()"
      ],
      "execution_count": null,
      "outputs": []
    },
    {
      "cell_type": "markdown",
      "metadata": {
        "id": "Y77a3TB6DcKI",
        "colab_type": "text"
      },
      "source": [
        "## **Opening and Reading Text Files by Buffer Size**"
      ]
    },
    {
      "cell_type": "markdown",
      "metadata": {
        "id": "OUHWqA79b13r",
        "colab_type": "text"
      },
      "source": [
        "Sometimes, we may want to read a file by buffer size so that our program does not use too\n",
        "much memory resources. \n",
        "\n",
        "To do that, we can use the `read()` function (instead of the `readline()` function) which allows us to specify the buffer size we want. "
      ]
    },
    {
      "cell_type": "code",
      "metadata": {
        "id": "rAcC8ZjJb7y3",
        "colab_type": "code",
        "colab": {}
      },
      "source": [
        "inputFile = open ('fables.txt', 'r')\n",
        "outputFile = open ('myoutputfile.txt', 'w')\n",
        "msg = inputFile.read(10)\n",
        "outputFile.write(msg)\n",
        "# while (len(msg)):\n",
        "#     outputFile.write(msg)\n",
        "#     msg = inputFile.read(10)\n",
        "\n",
        "inputFile.close()\n",
        "outputFile.close()\n"
      ],
      "execution_count": null,
      "outputs": []
    },
    {
      "cell_type": "markdown",
      "metadata": {
        "id": "A1GTPUnvcBK5",
        "colab_type": "text"
      },
      "source": [
        "### Explanation:\n",
        "* First, we open two files, the `inputFile.txt` and `outputFile.txt` files for reading and writing respectively.\n",
        "\n",
        "* Next, we use the statement `msg = inputFile.read(10)` and a `while` loop to loop through\n",
        "the file 10 bytes at a time. \n",
        "\n",
        "* The value 10 in the parenthesis tells the `read()` function to only read 10 bytes. \n",
        "\n",
        "* The while condition `while len(msg):` checks the length of the variable msg. As long as the length is not zero, the loop will run.\n",
        "\n",
        "* Within the while loop, the statement `outputFile.write(msg)` writes the message to the output file. \n",
        "\n",
        "* After writing the message, the statement `msg = inputFile.read(10)` reads the next 10 bytes and keeps doing it until the entire file is read. \n",
        "\n",
        "* When that happens, the program closes both files."
      ]
    },
    {
      "cell_type": "markdown",
      "metadata": {
        "id": "Bbn9grZhAIpJ",
        "colab_type": "text"
      },
      "source": [
        "# **Close Files**\n"
      ]
    },
    {
      "cell_type": "markdown",
      "metadata": {
        "id": "4tL05C0wAKoA",
        "colab_type": "text"
      },
      "source": [
        "It is a good practice to always close the file when you are done with it.\n",
        "\n"
      ]
    },
    {
      "cell_type": "code",
      "metadata": {
        "id": "FzvjHjdiAMR_",
        "colab_type": "code",
        "colab": {}
      },
      "source": [
        "# Close the file when you are finish with it:\n",
        "\n",
        "f = open(\"demofile.txt\", \"r\")\n",
        "print(f.readline())\n",
        "f.close()\n"
      ],
      "execution_count": null,
      "outputs": []
    },
    {
      "cell_type": "markdown",
      "metadata": {
        "id": "pR0Z4ecGAQS3",
        "colab_type": "text"
      },
      "source": [
        "**Note: You should always close your files, in some cases, due to buffering, changes made to a file may not show until you close the file.**"
      ]
    },
    {
      "cell_type": "markdown",
      "metadata": {
        "id": "fgXrL-b5RCaa",
        "colab_type": "text"
      },
      "source": [
        "# **Writing a file**"
      ]
    },
    {
      "cell_type": "markdown",
      "metadata": {
        "id": "1fDdenhPa9p2",
        "colab_type": "text"
      },
      "source": [
        "Now that we’ve learned how to open and read a file, let’s try writing to it. To do that, we’ll use the `a` (append) mode. \n",
        "\n",
        "You can also use the `w` mode, but you’ll erase all previous content in the file if the file already exists."
      ]
    },
    {
      "cell_type": "markdown",
      "metadata": {
        "id": "iJu7An9IAzDX",
        "colab_type": "text"
      },
      "source": [
        "### **Write to an Existing File**\n"
      ]
    },
    {
      "cell_type": "markdown",
      "metadata": {
        "id": "QfLB1dJuA4t6",
        "colab_type": "text"
      },
      "source": [
        "To write to an existing file, you must add a parameter to the open() function:\n",
        "\n",
        "> `\"a\" - Append` - will append to the end of the file\n",
        "\n",
        "> `\"w\" - Write` - will overwrite any existing content"
      ]
    },
    {
      "cell_type": "code",
      "metadata": {
        "id": "yf7psLq3A96p",
        "colab_type": "code",
        "colab": {}
      },
      "source": [
        "# Open the file and append content to the file:\n",
        "\n",
        "f = open ('myfile.txt', 'w')\n",
        "f.write('\\nThis sentence will be appended.')\n",
        "f.write('\\nPython is Fun!')\n",
        "f.close()"
      ],
      "execution_count": null,
      "outputs": []
    },
    {
      "cell_type": "code",
      "metadata": {
        "id": "GadqOKEUBBVv",
        "colab_type": "code",
        "colab": {
          "base_uri": "https://localhost:8080/",
          "height": 68
        },
        "outputId": "7de7ba6d-3f95-4f17-8d06-d7d16f086de4"
      },
      "source": [
        "#open and read the file after the appending:\n",
        "f = open(\"myfile.txt\", \"r\")\n",
        "print(f.read())"
      ],
      "execution_count": null,
      "outputs": [
        {
          "output_type": "stream",
          "text": [
            "\n",
            "This sentence will be appended.\n",
            "Python is Fun!\n"
          ],
          "name": "stdout"
        }
      ]
    },
    {
      "cell_type": "code",
      "metadata": {
        "id": "9WuKIGWZBDCY",
        "colab_type": "code",
        "colab": {}
      },
      "source": [
        "# Open the file \"myfile.txt\" and overwrite the content:\n",
        "\n",
        "f = open(\"myfile.txt\", \"w\")\n",
        "f.write(\"Woops! I have deleted the content!\")\n",
        "f.close()"
      ],
      "execution_count": null,
      "outputs": []
    },
    {
      "cell_type": "code",
      "metadata": {
        "id": "RCv3tvoLA2Wn",
        "colab_type": "code",
        "colab": {
          "base_uri": "https://localhost:8080/",
          "height": 34
        },
        "outputId": "f866c4a7-1b31-436c-ae1f-e609c4442aca"
      },
      "source": [
        "#open and read the file after the appending:\n",
        "f = open(\"myfile.txt\", \"r\")\n",
        "print(f.read())"
      ],
      "execution_count": null,
      "outputs": [
        {
          "output_type": "stream",
          "text": [
            "Woops! I have deleted the content!\n"
          ],
          "name": "stdout"
        }
      ]
    },
    {
      "cell_type": "markdown",
      "metadata": {
        "id": "hYEqe-3LBLmI",
        "colab_type": "text"
      },
      "source": [
        "Note: the `\"w\"` method will overwrite the entire file.\n",
        "\n"
      ]
    },
    {
      "cell_type": "markdown",
      "metadata": {
        "id": "TzTyvKi5c1Bj",
        "colab_type": "text"
      },
      "source": [
        "## **Opening, Reading and Writing Binary Files**"
      ]
    },
    {
      "cell_type": "markdown",
      "metadata": {
        "id": "JvEPG7RjdGNJ",
        "colab_type": "text"
      },
      "source": [
        "Binary files refer to any file that contains non-text, such as image or video files. \n",
        "\n",
        "To work with binary files, we simply use the `rb` or `wb` mode. "
      ]
    },
    {
      "cell_type": "code",
      "metadata": {
        "colab_type": "code",
        "id": "8DLXy0eieABO",
        "colab": {}
      },
      "source": [
        "inputFile = open ('myimage.jpg', 'rb')\n",
        "outputFile = open ('new_image.jpg', 'wb')\n",
        "msg = inputFile.read(10)\n",
        "while len(msg):\n",
        "    outputFile.write(msg)\n",
        "    msg = inputFile.read(10)\n",
        "\n",
        "inputFile.close()\n",
        "outputFile.close()\n"
      ],
      "execution_count": null,
      "outputs": []
    },
    {
      "cell_type": "markdown",
      "metadata": {
        "id": "QTR8rZOJBNro",
        "colab_type": "text"
      },
      "source": [
        "## **Create a New File**\n"
      ]
    },
    {
      "cell_type": "markdown",
      "metadata": {
        "id": "CtR2g2yLBPIa",
        "colab_type": "text"
      },
      "source": [
        "To create a new file in Python, use the open() method, with one of the following parameters:\n",
        "\n",
        "> `\"x\" - Create` - will create a file, returns an error if the file exist\n",
        "\n",
        "> `\"a\" - Append` - will create a file if the specified file does not exist\n",
        "\n",
        "> `\"w\" - Write` - will create a file if the specified file does not exist\n",
        "\n"
      ]
    },
    {
      "cell_type": "code",
      "metadata": {
        "id": "tCjN8d_ZH3tB",
        "colab_type": "code",
        "colab": {}
      },
      "source": [
        ""
      ],
      "execution_count": null,
      "outputs": []
    },
    {
      "cell_type": "code",
      "metadata": {
        "id": "iYNBEbjlBTx4",
        "colab_type": "code",
        "colab": {}
      },
      "source": [
        "# Create a file called \"myfile.txt\":\n",
        "\n",
        "f = open(\"myfile.txt\", \"x\")\n",
        "# Result: a new empty file is created!"
      ],
      "execution_count": null,
      "outputs": []
    },
    {
      "cell_type": "code",
      "metadata": {
        "id": "GJoqvediBZ-D",
        "colab_type": "code",
        "colab": {}
      },
      "source": [
        "# Create a new file if it does not exist:\n",
        "\n",
        "f = open(\"myfile.txt\", \"w\")\n",
        "f.close()"
      ],
      "execution_count": null,
      "outputs": []
    },
    {
      "cell_type": "markdown",
      "metadata": {
        "id": "SlG3rCGqCmzD",
        "colab_type": "text"
      },
      "source": [
        "# **Delete File**"
      ]
    },
    {
      "cell_type": "markdown",
      "metadata": {
        "id": "JsJ7hR-QCoH4",
        "colab_type": "text"
      },
      "source": [
        "To delete a file, you must import the `OS module`, and run its `os.remove()` function:\n"
      ]
    },
    {
      "cell_type": "code",
      "metadata": {
        "id": "tHOdBTfTCrcJ",
        "colab_type": "code",
        "colab": {}
      },
      "source": [
        "# Remove the file \"myfile.txt\":\n",
        "import os\n",
        "\n",
        "os.remove(\"myfile.txt\")\n"
      ],
      "execution_count": null,
      "outputs": []
    },
    {
      "cell_type": "markdown",
      "metadata": {
        "id": "wJS_4LJKeY28",
        "colab_type": "text"
      },
      "source": [
        "# **Renaming File**"
      ]
    },
    {
      "cell_type": "markdown",
      "metadata": {
        "id": "ffMygcwxebqs",
        "colab_type": "text"
      },
      "source": [
        "The `rename()` function renames a file. \n",
        "\n",
        "The syntax is `rename(old name, new name)`. "
      ]
    },
    {
      "cell_type": "code",
      "metadata": {
        "id": "TaKXpr2CeeiC",
        "colab_type": "code",
        "colab": {}
      },
      "source": [
        "# Rename the file \"demofile.txt\":\n",
        "\n",
        "import os\n",
        "os.rename('myfile.txt','my_new_file.txt')\n"
      ],
      "execution_count": null,
      "outputs": []
    },
    {
      "cell_type": "markdown",
      "metadata": {
        "id": "aHgjR5SGCvGD",
        "colab_type": "text"
      },
      "source": [
        "# **Checking if file or directory exists**"
      ]
    },
    {
      "cell_type": "markdown",
      "metadata": {
        "id": "ks9nkYZjDIlu",
        "colab_type": "text"
      },
      "source": [
        "To avoid getting an error, you might want to check if the file exists before you try to delete it:\n",
        "\n",
        "If you want to make sure a file or directory exists (or it doesn't), the `os.path` module is what you need. "
      ]
    },
    {
      "cell_type": "code",
      "metadata": {
        "id": "pdfV0cIbDEtG",
        "colab_type": "code",
        "colab": {
          "base_uri": "https://localhost:8080/",
          "height": 86
        },
        "outputId": "6b9145d2-bf1c-407d-81d3-71c2e7c033ba"
      },
      "source": [
        "# Check if file exists, then delete it:\n",
        "\n",
        "import os\n",
        "if os.path.exists(\"demofile.txt\"):\n",
        "    os.remove(\"demofile.txt\")\n",
        "else:\n",
        "    print(\"The file does not exist\")\n",
        "\n",
        "\n",
        "# Another example\n",
        "filename = '/content/myimage.jpg'\n",
        "path = os.path.dirname(os.path.abspath(filename))\n",
        "print(os.path.isfile(filename)) # True\n",
        "print(os.path.isdir(path)) # True\n",
        "print(path) # /Users/fab/srv/lpp/ch7/files"
      ],
      "execution_count": null,
      "outputs": [
        {
          "output_type": "stream",
          "text": [
            "The file does not exist\n",
            "True\n",
            "True\n",
            "/content\n"
          ],
          "name": "stdout"
        }
      ]
    },
    {
      "cell_type": "markdown",
      "metadata": {
        "id": "x9qFj5PECxoC",
        "colab_type": "text"
      },
      "source": [
        "# **Delete Folder**\n"
      ]
    },
    {
      "cell_type": "markdown",
      "metadata": {
        "id": "cQbxIqnDCzCx",
        "colab_type": "text"
      },
      "source": [
        "To delete an entire folder, use the `os.rmdir()` method:\n",
        "\n"
      ]
    },
    {
      "cell_type": "code",
      "metadata": {
        "id": "I5EnTNmKC0aX",
        "colab_type": "code",
        "colab": {}
      },
      "source": [
        "# Remove the folder \"myfolder\":\n",
        "\n",
        "import os\n",
        "os.rmdir(\"myfolder\")"
      ],
      "execution_count": null,
      "outputs": []
    },
    {
      "cell_type": "markdown",
      "metadata": {
        "id": "3jjIU22uC2OZ",
        "colab_type": "text"
      },
      "source": [
        "**Note: You can only remove empty folders.**"
      ]
    },
    {
      "cell_type": "markdown",
      "metadata": {
        "id": "bXl3cfipgMjQ",
        "colab_type": "text"
      },
      "source": [
        "# **Using a context manager to open a file**"
      ]
    },
    {
      "cell_type": "markdown",
      "metadata": {
        "id": "L2vCmUO8gOa5",
        "colab_type": "text"
      },
      "source": [
        "Python gives us a much nicer way to open a file in a secure fashion: \n",
        "* by using a **context manager.**"
      ]
    },
    {
      "cell_type": "markdown",
      "metadata": {
        "id": "7P7DFpRPh0Gi",
        "colab_type": "text"
      },
      "source": [
        "## **Opening a file**"
      ]
    },
    {
      "cell_type": "code",
      "metadata": {
        "id": "oZYtP1Erg0in",
        "colab_type": "code",
        "colab": {}
      },
      "source": [
        "# fh = open('fables.txt', 'r')\n",
        "\n",
        "\n",
        "# files/open_with.py\n",
        "with open('fables.txt', 'r') as fh:\n",
        "    for line in fh:\n",
        "        print(line.strip())"
      ],
      "execution_count": null,
      "outputs": []
    },
    {
      "cell_type": "markdown",
      "metadata": {
        "id": "KlOFj1qPhFvP",
        "colab_type": "text"
      },
      "source": [
        "The `with` statement supports the concept of a runtime context defined by a context manager. \n",
        "\n",
        "This is implemented using a pair of methods, `__enter__` and `__exit__`, that allow user-defined classes to define a runtime context that is entered before the statement body is executed and exited when the statement ends. \n",
        "\n",
        "The open function is capable of producing a file object when invoked by a context manager, but the true beauty of it lies in\n",
        "the fact that `fh.close()` will be called automatically for us, even in case of errors.\n",
        "\n",
        "Context managers are used in several different scenarios, such as thread synchronization, closure of files or other objects, and management of network and database connections."
      ]
    },
    {
      "cell_type": "markdown",
      "metadata": {
        "id": "vqGHlej-hjxi",
        "colab_type": "text"
      },
      "source": [
        "## **Reading and writing to a file**"
      ]
    },
    {
      "cell_type": "code",
      "metadata": {
        "id": "tdj6Hhkjh583",
        "colab_type": "code",
        "colab": {}
      },
      "source": [
        "# files/print_file.py\n",
        "with open('print_example.txt', 'w') as fw:\n",
        "    print('Hey I am printing into a file!!!', file=fw)\n",
        "    print('''A first approach uses the print function, \n",
        "which you've seen plenty of times in the \n",
        "previous chapters. After obtaining a file object, \n",
        "    this time specifying that we intend to\n",
        "    write to it (\"w\"), we can tell the call to \n",
        "    print to direct its effects on the file, instead \n",
        "    of the default sys.stdout, which, when \n",
        "    executed on a console, is mapped to it.''' , file=fw)"
      ],
      "execution_count": null,
      "outputs": []
    },
    {
      "cell_type": "markdown",
      "metadata": {
        "id": "uduPS0DYjhcg",
        "colab_type": "text"
      },
      "source": [
        "A first approach uses the `print` function, which you've seen plenty of times in the previous chapters. \n",
        "\n",
        "After obtaining a file object, this time specifying that we intend to write to it (\"w\"), we can tell the call to print to direct its effects on the file, instead of the default\n",
        "`sys.stdout`, which, when executed on a console, is mapped to it."
      ]
    },
    {
      "cell_type": "code",
      "metadata": {
        "id": "RLL5SQKajqOi",
        "colab_type": "code",
        "colab": {}
      },
      "source": [
        "# files/read_write.py\n",
        "with open('fables.txt', 'r') as fin:\n",
        "    lines = [line.rstrip() for line in fin]\n",
        "    # print(lines)\n",
        "with open('fables_copy.txt', 'w') as fout:\n",
        "    print('\\n'.join(lines), file = fout)\n",
        "    # fw.write('\\n'.join(lines))"
      ],
      "execution_count": null,
      "outputs": []
    },
    {
      "cell_type": "code",
      "metadata": {
        "id": "odd4sYiVB5cV",
        "colab_type": "code",
        "colab": {
          "base_uri": "https://localhost:8080/",
          "height": 154
        },
        "outputId": "8cc72c44-c993-4aa9-bdda-cab1c9b15182"
      },
      "source": [
        "help(''.join)"
      ],
      "execution_count": null,
      "outputs": [
        {
          "output_type": "stream",
          "text": [
            "Help on built-in function join:\n",
            "\n",
            "join(...) method of builtins.str instance\n",
            "    S.join(iterable) -> str\n",
            "    \n",
            "    Return a string which is the concatenation of the strings in the\n",
            "    iterable.  The separator between elements is S.\n",
            "\n"
          ],
          "name": "stdout"
        }
      ]
    },
    {
      "cell_type": "markdown",
      "metadata": {
        "id": "jUEF03wakPV5",
        "colab_type": "text"
      },
      "source": [
        "## **Reading and writing in binary mode**\n",
        "\n",
        "In this example, I'm still using text as binary data, but it could be anything you want. \n",
        "\n",
        "You can see it's treated as a binary by the fact that you get the b'This ...' prefix in the output."
      ]
    },
    {
      "cell_type": "code",
      "metadata": {
        "id": "_JvhNa8VkS2P",
        "colab_type": "code",
        "colab": {
          "base_uri": "https://localhost:8080/",
          "height": 34
        },
        "outputId": "eca59ba4-42bd-446d-ccff-58eebf99a279"
      },
      "source": [
        "# files/read_write_bin.py\n",
        "with open('example.bin', 'wb') as fw:\n",
        "    fw.write(b'This is binary data...')\n",
        "with open('example.bin', 'rb') as f:\n",
        "    print(f.read()) # prints: b'This is binary data...'"
      ],
      "execution_count": null,
      "outputs": [
        {
          "output_type": "stream",
          "text": [
            "b'This is binary data...'\n"
          ],
          "name": "stdout"
        }
      ]
    },
    {
      "cell_type": "markdown",
      "metadata": {
        "id": "ClqOG4RxkRlC",
        "colab_type": "text"
      },
      "source": [
        "# **Manipulating files and directories**"
      ]
    },
    {
      "cell_type": "markdown",
      "metadata": {
        "id": "Exge14T-oidJ",
        "colab_type": "text"
      },
      "source": [
        "Let's see a couple of quick examples on how to manipulate files and directories. "
      ]
    },
    {
      "cell_type": "markdown",
      "metadata": {
        "id": "bQyGnbzNt6Q8",
        "colab_type": "text"
      },
      "source": [
        "### Example 1"
      ]
    },
    {
      "cell_type": "code",
      "metadata": {
        "id": "PfO6Rs4joivI",
        "colab_type": "code",
        "colab": {
          "base_uri": "https://localhost:8080/",
          "height": 35
        },
        "outputId": "4f5dd0e3-f1d6-4966-b3d0-461cc0e91901"
      },
      "source": [
        "import shutil\n",
        "import os\n",
        "\n",
        "BASE_PATH = '/content/drive/My Drive/test' # this will be our base path\n",
        "# os.mkdir(BASE_PATH)\n",
        "\n",
        "# C:\\Users\\CPLab\\Downloads\n",
        "\n",
        "# path_b = os.path.join(BASE_PATH, 'A', 'B') #/content/drive/My Drive/test/A/B\n",
        "# path_c = os.path.join(BASE_PATH, 'A', 'C') #/content/drive/My Drive/test/A/C\n",
        "# path_d = os.path.join(BASE_PATH, 'A', 'D')\n",
        "# os.makedirs(path_b)\n",
        "# os.makedirs(path_c)\n",
        "\n",
        "# for filename in ('ex1.txt', 'ex2.txt', 'ex3.txt'):\n",
        "#     filename = os.path.join(path_b, filename)\n",
        "#     with open(filename, 'w') as fh:\n",
        "#         print(f'Some content here in {filename}\\n', end = \"\", file=fh)\n",
        "\n",
        "\n",
        "# shutil.move(path_b, path_d)\n",
        "shutil.move(os.path.join(path_d, 'ex1.txt'),os.path.join(path_d, 'ex1d.txt'))"
      ],
      "execution_count": null,
      "outputs": [
        {
          "output_type": "execute_result",
          "data": {
            "application/vnd.google.colaboratory.intrinsic+json": {
              "type": "string"
            },
            "text/plain": [
              "'/content/drive/My Drive/test/A/D/ex1d.txt'"
            ]
          },
          "metadata": {
            "tags": []
          },
          "execution_count": 26
        }
      ]
    },
    {
      "cell_type": "markdown",
      "metadata": {
        "id": "DRMiknHwryaD",
        "colab_type": "text"
      },
      "source": [
        "### Explanation:\n",
        "* In the previous code, we start by declaring a base `path`, which will safely contain all the files and folders we're going to create. \n",
        "\n",
        "* We then use makedirs to create two directories: `ops_example/A/B` and `ops_example/A/C`. \n",
        "\n",
        "* We use `os.path.join` to concatenate directory names, as using `/` would specialize the code to run on a platform where the directory separator is `/`, but then the code would fail on platforms with a different separator. Let's delegate to join the task to figure out which is the appropriate separator.\n",
        "\n",
        "* After creating the directories, within a simple for loop, we put some code that creates three files in directory B. \n",
        "\n",
        "* Then, we move the folder B and its content to a different name: D. \n",
        "\n",
        "* And finally, we rename `ex1.txt` to `ex1d.txt`. If you open that file, you'll see it still contains the original text from the for loop. \n",
        "\n",
        "Calling tree on the result produces the following:\n",
        "\n",
        "![image.png](data:image/png;base64,iVBORw0KGgoAAAANSUhEUgAAARsAAACxCAYAAAD03RkdAAAXD0lEQVR4Ae2dz4vbSN6HdXpP+QfEy8BCGJhD33J6c9JlfJnDLAu5vAfD25dlyGF/HDQ07GFO7x68NMwSGAgImoWBgUbQvCHs0KwIDAOLwQszZBe/vizZ0Bh2w7zBmBA6GefzUpLqh2TJktyyZEufQLDUkkpVz1d6XFWSqyzwHwmQAAk0QMBq4Bw8BQmQAAmAsuFFQAIk0AgByqYRzH0+yY9YPv8rvn++xLs+Y2DZWbPhNbBbAu/+9Uf88v1bsI7+G39+Rd3slvZ+p86azX7Hp57crabwBjYsy9L/7RMEi1U96eem8goz7z9xy7qF93/5R/yLrskl1YcNlE0forx6Bv/4SItGSKcB2bz74U/49INbsG79FJ9/t+gDaZZxAwHKZgOcTm5aBHDtJmRj1Go++R/MWavp5OVUpVCUTRVaXdi3Kdm8+gs+//A9WNZdfBr8k53DXbh2bliGSrJZzSe48Fw4qu1vw3Ef4mIyh2z9r658HItvznAfG4PROS7PRxgaf0sfo8twjfnkETx3YFT5B3C9L+A6d+EGL/Su2y4tZwgS+bFgD0fwjTKESS/HGDlmP8dHGE1eAmtNkiMc+8/i8ov8P4afYCRYHGE48jGZX8e5vsaVfx92zNEe/hq/js9lDx/gz5NvcCYZ2EOcjgXf5DGW9VOM/Mc4Hw1VOpYlWD0yzpMBqbRsFpgFX2E0NJpf9hAjf4K5DHZG8tGf3mD+6Fd437Jw62MPszes1uSi6tGGkrK5xjz4zJCMlIn8PMLw9NvwIlzNPAyUjOT2rM8jDL2nWCrY6Ztp/RjbDXCTlv9qfomThEDMc9hwTi71jVRaNjYG3jSWzUtMRh8ZojTTN5suBful+dn34V8tMPPu5adtHmMfw5vmkCojm9UVghNT+KlyOJ8hUOJUAdQLrNVoFlxSBErJRtdWxDdngNlSfrUtMLs8jWst5jf8a+PG2HTMPXiz11Fm5E0gagGxuMSG1fxbnMbfrjeSjZKHqI39wfj2zyuDOPsCM/8klqzI1zeYTX24UlhFN53CLOViikkzErWZsbh5JQNVm3mBwL0Dy7qja3XmkyXHhRfMtLCXM1zKms7Aw0yGSeVDFKmoz0bm1YLluDhTNb4VlrOvVU3HPvZxlZU+fsQPwW/wgajVfPh7fMfH3Sb9Xi+XkI28KUyZmMxWWE5OoxtSXeDyGBvOaKxvBnXYCovgBLZl3HzyJlhrcgCR7IwbTqVTdkGez4Kl8mgem1UGuf0a8/EDoxkovuWFsHxDunJf8ZnR/FC1DqO8kIwsKIlKBupJ0SbZxM0689ThsjzGELm5z9o5zI2GjKyc45W0c7a/+Ru8j38SCvKTR8/ZV5PC2+fVYtmob9INN/vaBSxvJPPmMjHrm1/daFhg6h0b/Q9x1V30E5z7iX4hM6Vyy/IGTDUHlATMv2fdRMa3vTgmbNbI/hcjB0XND1OuN5ZNVj5FXmRZc+K1Fisj/9BxSbyTk8kpK7a6VmP9x+8wYa3GhNv75WLZqJtim5qN8a2dQJ0nI1FVfwLf91Mdn3FtIrOWlEg4Z0Wez5RK3nLqJk4I5A4c53bUb7LWL2KcI9H8EFmS28wbVP7NYLQmggxxFMlfbU+VQ5JZO4fcEH2W73MzyxKn8e4f8P/rA1jWT/Cx9ze8SSbNtZ4TKCEb2YwRN+em/hdTRvpGip7EfK2bHKs5JmfyiZa8IWQzJqt5YnQcq+ZF1ajJ9KN+iEQ/h0xK5OvCh5/oA3kKTz6Nkf0oqznGp/IJ0ACuP42aieomT9+Eolnlx0/YzG2akardrYlgk2xEDWuI0aXus1nNx/opVmZz0Wgm5bFUzaR0rCWo+Imb/0THNNz0Dq+++z0+vGXB+uA3CH74UR7ATxIICZSSDVD+aVTEVd9I+dVx82lUmf3z+n/KRjKnmZZuIoQ34du4T8ms/eQ9+hYCO8Vk+TrxODu/3JEkfvtbKazoHGGH68u481Y11a7iDmKxT1x+JTUzb6lls9ZVZn/Lgu7wXWE5PUv1UaXSD5mlmmnvnuPRJ6Izm7Wasldk3/YrKZsIS5n3bKI9pTxsDB5eYnzxUD/BCTtXk+/mALLm4WA4dFKPd6N3eRI1jq2jFDfT1t6Did61Ofcfx0+pZH7Mm6xINuLRjPjW99UTG/mukeN+kXx3yB7i5rK5h4fBN6n3nkRtJPWeTWXZxHDF+0i+GbeYRWYf2ju8mXn4WNRq3v8VHs3ZgNr6Eu3wgZVkU56DIRv1Dkr5o7nnBgJKHrIJumHfpja9+yeCT+/Cst7Dh5//Ba+aOi/Pc1AEKJuDCpd48Uj+gnuPZHP9Pb4YvMdazaFdSw3nt3bZ6BcAzSaI7NfIfAusYpFlp2kq/XTfi7me1xla8czt7m50lJtlk305rWZuhdfz/8X3f/8/vG01Hzz5PhOgbPY5Oom87bNsEhnlCglkEqhdNpln4R9JgAR6T4Cy6f0lQAAk0AwByqYZzjwLCfSeQH2yeTvB6M4IE/YQ9v6iIgASyCJA2WRR4d9IgARqJ0DZ1I60fILiDWP+I4G+EKjvamczqvI1Q9lURsYDDpgAZVNn8NQvplMvHOb8ApuyqRM+09p3ApRNnRHKk42VPaoeZVMnfKa17wQom51ESP4QVddw1Jg1xvkoGwMGFztPgLLZRYhVDecevPGj3EnhKJtdwGea+0qAsqk9MsY4vmFfjfzhaGqwKSAct6f20zNBEthTApRN7YFJyyUtH31C1mw0Cy51n0C9srmt+yjEjZT9/+fw5x1+zXhtHOH8MWgom+7fYCyhJlCfbOSA4b4fzo4gZkjI+v/VME9C+/R3B6OJnqtT4ypaMmoxmbI1BzxnM6qIJrd3i0B9sukWly1LI5tQG8QZDo4eDSLGms2WmHnYQRKgbGoMmxqlMOslPjWcp+4opmxqhM+k9p4AZVNbiPS7NVnv1OiJ6vSkdJRNbfCZ0AEQoGzqCJJ6r8ZsPum3hlWNx+zHse/jZ//+b3WcnWmQwEEQoGzqCJNqIlE2deBkGt0kQNm0GFc2o1qEz1M3ToCyaRy5PiFlo1lwqfsEKJsWY0zZtAifp26cAGXTOHJ9QspGs+BS9wlQNi3GmLJpET5P3TgByqZx5PqElI1mwaXuE6Bsuh9jlpAE9oIAZbMXYWAmSKD7BCib7seYJSSBvSBA2agwLDEZObBuc1ZPhYQLJFAjAcpGwaRsFAoukMAOCFA2Ciplo1BwgQR2QICyUVApG4UiXFhhOXuC89EQtvq1ug3HfQjfc+HkzIWVTINrJKAJUDaKBWWjUOAa8+AzOEoy5q/Z5XJyiFN9LJdIIJsAZaO4UDYRihWWk9NYNAO4Z2PMo1FMATHO9Jmo1QjhUDbq0uFCKQKUjcJE2UQo5DjKRzj2n0F6RmGCHJGQstFMuFSGAGWjKFE2IQo5FU3WOMrhDrLmo0ciVAi5QAIbCFA2Cg5lI1CsZh4Glh4nWeHhAgnckABlowBSNoCe9yp70HYFiwskUJkAZaOQxbLZ+ARGPok5kM/Kb0NTNupy4ELtBCgbhZQ1G4FCNqOs3D4bBYwLJFCJAGWjcFE2IQo1U8QAJ8FVxtMoBYwLJFCJAGWjcFE2EQr5tEk0FQdwvQCzpfEAXLxr448wtG04ozG2mRFdIedCrwhQNirclI1CUeoN4rz3cHQqXCIBkwBlo2hQNgpFvLCaT3AR/g7K7BAXtR0fwWyR3p3rJLCRAGWj8FA2CgUXSGAHBCgbBZWyUSi4QAI7IEDZKKiUjULBBRLYAQHKRkGlbBQKLpDADghQNjuAyiRJgATWCVA260z4FxIggR0QoGx2AJVJkgAJrBOgbNaZ8C8kQAI7IEDZJKCKTuIhRhO+hJ/AwhUSqIEAZZOASNkkcHCFBGokQNkkYFI2CRxcIYEaCVA2CZiUTQIHV0igRgKUTQJm32UjZ04wf3ipl+3hCOfBjMNKJK4ZrpQlQNkkSFE2M+8erI1Dox5h6D2lcBLXDVfKEKBsEpT6LhsBI28c4mvMJ3+A69iwLI5lk7hsuFKKAGWTwETZ5MtGgDJG8XNOMTFH8Etw5AoJrBOgbBJMKJvNshGw5IyZd+AGLxL0uEICmwhQNgk6lE2xbGQnMqffTVw6XCkkQNkkEAnZOAUdpOLpzG0M/eeJI7uzktdnI0tI2UgS/KxGgLJJ8BKdoI/h+37B/zO4jn4kvPnpTYv7VZ6kTsCgbBKXBFdqI0DZ1IayKwkVyYZ9Nl2JdNPloGyaJr735yuQzSKAa1uw7BMEC2M+qb0vFzPYNgHKpu0I7N3582SzwnL2NUbDI1gWJ6jbu7AdQIYomwMIUnNZvMaVfx/2xjeILdjDM0z5jk1zYenImSibjgSynmIUyMZx4V1MMGfrqR7cPUuFsulZwFlcEmiLAGXTFnmelwR6RoCy6VnAWVwSaIsAZdMWeZ6XBHpGgLLpWcBZXBJoiwBl0xZ5npcEekaAsulZwFlcEmiLAGXTFnmelwR6RoCy6VnAWVwSaIsAZdMW+V2d9+0Eo9sWbo8meLurczBdEtiCAGWzBbS9PoSy2evw9DlzlE3Xok/ZdC2inSkPZdOZUMYFoWxaiKg5/IYF2w2wqJKL1RTeQEyRE4/qOPAwu8mPXZdjjJzbGHhT3CSZ/CLIWTbuwZu9zt8ttYWySQE5+FXKptkQruYYnw4Tw3K0LZvVzMNAiOum0solud041JRNLtAD3UDZNBg4OUSqBctx8XAUSaeybMIc60HLbioJyqbBS6DXp6JsGgz/ArPgAr7/BLPlWyyCk7CGQ9lkh4A1m2wuh/tXysaInehLeYLzuMYR9YkcYTjyMZlfJ/ebnMKRfSbiM57xc3Xl41iMuSy32ffhX5nHymR0zWSzbPLydI5L7xdRc2zL5o+q0ci8Znzaxz6uVEeO7Hsxyrex3AuUmQv+2H+W2VdE2chrpSuflE0cyWvMg8+SAkncfAOcBFfxTVHhprPyOkXLyCbjPIk83ayDeE2MGWlvLZuw3IsSw8bmzwNP2XRFMrIclE1yTnJrAPdsrIcyXc5wKWs66VrKcgrfHUS1GHuI0/EUU/8kFpYN5+RSpyN5q88SspEzU1iidvU1ZnIc59UckzNXi3HLmo3MiqrhlE2ncrnZQSxZ9/szlo2q9md8ux3WNgejybJiTGXHbd4UwS8xGX0UzhKx9ng44+mSJYTlT7E5F0WyKdpujP9cVhI5VCrLRqRTqdyUTQ76nv2ZNRtA1SCMvog86Wbd2OF7Kvq9l2TTI+96KpJJ0Q2qj2/taVTpcheVJZsRm1HZXA73r5QNkH5JLk804u8p2azmlzhxYtHcdeDEncPF09doWWR3EOsb1BmNM2pJ7dZsqpVbl2WtZrjhzqFsNsA5yE2UDQDdTHJcD8Fs/X3e1XyCC//C2LbCcnqGoZLLA4zn11jNv8VpODGfeEJ1Aj8jreg6KZINoDtwU/1Ios/GH6lzpwVY9TpUzaj4yZI8Piyz58JJ9FVtU24tm6Q4rzGfPILnDpBVG6RsZCS68knZRJFcPoUnJbGhZhPVQmQfj9HsynsEbM4GunoG/1jMEGocl15O3PBFT8jMdD7CaPIyeVWqZs4Rht7TjNpRvHthvmTaW5ZbdPGkXwnYWO4oX5RNMpyHv0bZGDEUL9354TdtUgjiadCX8NWEe7ImZNzsO5GNyFreezZfpt4HkkIwilNWNuKQ5QyBqMWYEhCTDPqPjXeMtix3mCVRjiDF1objPjS4GnkHQNkkeRz+GmVz+DHsaAkom64FlrLpWkQ7Ux7KpjOhjAtC2XQtop0pD2XTmVBSNl0LZdfKQ9l0LaIsDwnsKQHKZk8Dw2yRQNcIUDZdiyjLQwJ7SoCy2dPAMFsk0DUClE3XIsqnUV2LaGfKQ9l0JpRxQSibrkW0M+WhbDoTSsqma6HsWnkom65FlDWbhiOa9VunAVwv0CPx3ShHcijRvOFIb5R4fHD8G6nUcBt1pGymQdmYNLqwTNk0GMXNv+IuHgOnTFb1cA5Vxo4pk7LaR43/s0uh8YeYindnFiib5kKpRgQ8wvD0WzU+sR4DJ29Y0ipZpGyq0OK+TRKgbJqjHQ/5kDVQlBrA6sZNE8qmuYDyTNUIUDYGr6z+lF3NG2WcVoxZI+eh2lo2UjLGGDvm2DThcnralPT4NDaikfSMIUfjNEJBvk3NMb6WvgUrMaqfWcbqy+yzqc5sv4+gbOL4bO5PETMm1DtvlL4s9Hi+aRnofYqX1gWRHABMSCidfnnZhEOPvi0x0iBlUxyq3u5B2bQ0b1R0xWnRFM0zVfYKlTWcsv0/ojbnw40HbbeHDzCefafnw0pINs4DO4jLBoP7JQjEsln/FtxUHd/nbYczb5QeML0u0YjIVpVNdDXoTmojtnkDtlM2iVuIK2UJsGbTwrxRZpOtYDDysnFU+20nm3CsY9lvlNm/o05gTH3DR98GFS4WEqBsjJvH+FbP6vwUf0t14OpmkAWrzLxRiZkkzX6gwkiV3GEb2Zjys3HXuQs7Fk7mrAys2ZSMBXdLEqBsGps3KtFUsY/hTY35qeIbOHvCumTINq9p2ZSbo2mBqXes5RK+/3ON+fhBPC+VmAHBT77drGSTmtFBzGd18RCucwfH/jOsNme0cCufRhUiOrAdKJsoYDufN0pKoKD2ZJ8gWGTdpsbj8bSoUpdc6Tma1EuGMk/5j74tyxRL0ZMvmU4qYxVXKZuKwPZ+d8rGCNEu541qTjbRXFMl5mhS80pVlY1AJlh56ilW9IBB/MbrHBeT+Y1rNeIMlI1xaXZikbLpRBi7WAjKpmtRpWy6FtHOlIey6Uwo44JQNl2LaGfKQ9l0JpSUTddC2bXyUDZdiyjLQwJ7SoCy2dPAMFsk0DUClE3XIsrykMCeEqBs9jQwzBYJdI0AZdO1iIryiCdSd0aYvO1i4VimQyVA2Rxq5Dblm7LZRIfbWiJA2bQEfqenpWx2ipeJb0eAstmO234fRdnsd3x6mjvKpouBp2wajGrWoOpiGAcPwcwYcmLrHMlfh+9yYCtOUrd1eHp/IGXT0CVQMDRDwdAR5TIpf11edgzicqkm9lLj2exSaPzVd4J5Z1Yom4ZCKWUzgOtPsZRnNUbvq3PwLM6IKQHzc38IUDatx4KT1K2HgH0260wO/y+UTRzDrP6UBiapUzWbm4xwJ5tPciCsrM/t543iJHWHf5vvRwkoGwDmoN9ZN6o5OLnshDX2c04xWa6wPiRnTr/GKj3hW8ZYv5WuDtlEM/K0Nmj79rLhJHWVgsGdcwkI2dzedJHKbT+HP+/ia8amPAZwz8aYy2GAlzNcjobRgODp2R6XUz2Zmz3E6XiKqX8CJ7zJC+aCql02MrqyhlO2g5iT1Ely/GyCQDgqvg/f3/z/q6GUzj5/HsokdTqwq/kEvhRaXEPSW6suVZVNlH5i5gdZI+IkdVXhc38SKCCwNsvABpmm5o0KU04NHB72b8iaUcGp9eYXCNw7sKw7cIMX+s+Vl7aTDSepqwyaB5DAFgTUeyMbJCO/7VOyqTxJXW722pSN2V/FSepyQ8QNJHBzAvEbsVb+m7yiqXPhXxhv+a6g5+q2YA8fYDy/RqI5km6GLGcIRFM1mOl3bETmRTPWH0WTwuXOG1W2lLpmw0nqyjLjfiTQJIGdT1IHqHdpZC1p7TP9tMgEYHRiF7xpvP5ELFVjk/1Ca81H+eg968kWJ6kzo8FlErghgV1OUieydo355BE8d4BoUjcpAfEuz5cFk7uVlw0nqbvhZcDDSYAE+kWAbxD3K94sLQm0RoCyaQ09T0wC/SJA2fQr3iwtCbRGgLJpDT1PTAL9IkDZ9CveLC0JtEaAsmkNPU9MAv0iQNn0K94sLQm0RoCyaQ09T0wC/SJA2fQr3iwtCbRGgLJpDT1PTAL9IvD/sET6LTsauboAAAAASUVORK5CYII=)"
      ]
    },
    {
      "cell_type": "markdown",
      "metadata": {
        "colab_type": "text",
        "id": "ejnp104UuC1s"
      },
      "source": [
        "### Example 2"
      ]
    },
    {
      "cell_type": "code",
      "metadata": {
        "id": "14VXxdWGq85q",
        "colab_type": "code",
        "colab": {
          "base_uri": "https://localhost:8080/",
          "height": 137
        },
        "outputId": "5294f8a9-4f53-4c4a-aeba-178c0de16690"
      },
      "source": [
        "import os\n",
        "filename = '/content/drive/My Drive/test/A/D/ex1d.txt'\n",
        "path = os.path.abspath(filename)\n",
        "print(path)\n",
        "print(os.path.basename(path))\n",
        "print(os.path.dirname(path))\n",
        "print(os.path.splitext(path))\n",
        "print(os.path.split(path))\n",
        "readme_path = os.path.join(os.path.dirname(path), '..', '..', 'README.rst')\n",
        "print(readme_path)\n",
        "print(os.path.normpath(readme_path))"
      ],
      "execution_count": null,
      "outputs": [
        {
          "output_type": "stream",
          "text": [
            "/content/drive/My Drive/test/A/D/ex1d.txt\n",
            "ex1d.txt\n",
            "/content/drive/My Drive/test/A/D\n",
            "('/content/drive/My Drive/test/A/D/ex1d', '.txt')\n",
            "('/content/drive/My Drive/test/A/D', 'ex1d.txt')\n",
            "/content/drive/My Drive/test/A/D/../../README.rst\n",
            "/content/drive/My Drive/test/README.rst\n"
          ],
          "name": "stdout"
        }
      ]
    },
    {
      "cell_type": "markdown",
      "metadata": {
        "id": "zu9_RDmHuuJk",
        "colab_type": "text"
      },
      "source": [
        "# **Reading and Writing to a .csv File**"
      ]
    },
    {
      "cell_type": "markdown",
      "metadata": {
        "id": "_gOUJR5huxZ1",
        "colab_type": "text"
      },
      "source": [
        "CSV stands for \"Comma Separated Values\" and is a format usually associated with importing and exporting from spreadsheets and databases. \n",
        "\n",
        "It allows greater control over the data than a simple text file, as each row is split up into identifiable columns. \n",
        "\n",
        "![image.png](data:image/png;base64,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)"
      ]
    },
    {
      "cell_type": "markdown",
      "metadata": {
        "id": "nkq6NYcIvSKc",
        "colab_type": "text"
      },
      "source": [
        "A .csv file would store the above data as follows:\n",
        "\n",
        "\n",
        "![image.png](data:image/png;base64,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)"
      ]
    },
    {
      "cell_type": "markdown",
      "metadata": {
        "id": "tQ_DjhNmvQqa",
        "colab_type": "text"
      },
      "source": [
        "However, it may be easier to think of it as being separated into columns and rows that use an index number to identify them.\n",
        "\n",
        "![image.png](data:image/png;base64,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)"
      ]
    },
    {
      "cell_type": "markdown",
      "metadata": {
        "colab_type": "text",
        "id": "Peq594d6uFUU"
      },
      "source": [
        "### Example 3"
      ]
    },
    {
      "cell_type": "code",
      "metadata": {
        "id": "FnvpVtwYvo0Z",
        "colab_type": "code",
        "colab": {}
      },
      "source": [
        "import csv\n",
        "# This must be at the top of your program to allow Python to use the .csv library of commands."
      ],
      "execution_count": null,
      "outputs": []
    },
    {
      "cell_type": "code",
      "metadata": {
        "id": "nHQNB7_ivorJ",
        "colab_type": "code",
        "colab": {
          "base_uri": "https://localhost:8080/",
          "height": 68
        },
        "outputId": "143d762e-681e-4771-80d4-c668c2ae6559"
      },
      "source": [
        "file = open (\"Stars.csv\",'a')\n",
        "name = input(\"Enter name: \")\n",
        "age = input(\"Enter age: \")\n",
        "star = input(\"Enter star sign: \")\n",
        "newRecord = name + ',' + age + ',' + star + '\\n'\n",
        "file.write(str(newRecord))\n",
        "file.close()\n",
        "\n",
        "# This will open the Stars.csv file, ask the user to enter the name, age and star sign, and will append this to the end of the file."
      ],
      "execution_count": null,
      "outputs": [
        {
          "output_type": "stream",
          "text": [
            "Enter name: Abhijeet\n",
            "Enter age: 18\n",
            "Enter star sign: Cancer\n"
          ],
          "name": "stdout"
        }
      ]
    },
    {
      "cell_type": "code",
      "metadata": {
        "id": "lkt_6_o1voiV",
        "colab_type": "code",
        "colab": {
          "base_uri": "https://localhost:8080/",
          "height": 120
        },
        "outputId": "a7e3a4fb-3239-4fc4-aa44-598aa90cfff7"
      },
      "source": [
        "file = open(\"Stars.csv\",\"r\")\n",
        "for row in file:\n",
        "    print(row)\n",
        "\n",
        "# This will open the Stars.csv file in read mode and display the records one row at a time."
      ],
      "execution_count": null,
      "outputs": [
        {
          "output_type": "stream",
          "text": [
            "Arwaz,19,Leo\n",
            "\n",
            "Mitali,17,Sagittarius\n",
            "\n",
            "Abhijeet,18,Cancer\n",
            "\n"
          ],
          "name": "stdout"
        }
      ]
    },
    {
      "cell_type": "code",
      "metadata": {
        "id": "zxcYluHvvoX-",
        "colab_type": "code",
        "colab": {
          "base_uri": "https://localhost:8080/",
          "height": 51
        },
        "outputId": "00cdfb31-9820-4231-e4a2-4010dfaae43e"
      },
      "source": [
        "import csv\n",
        "\n",
        "file = open(\"Stars.csv\",\"r\")\n",
        "reader = csv.reader(file)\n",
        "rows = list(reader)\n",
        "print(rows[1])\n",
        "print(rows)\n",
        "\n",
        "# This will open the Stars.csv file and display only row 1. \n",
        "# Remember, Python starts counting from 0."
      ],
      "execution_count": null,
      "outputs": [
        {
          "output_type": "stream",
          "text": [
            "['Mitali', '17', 'Sagittarius']\n",
            "[['Arwaz', '19', 'Leo'], ['Mitali', '17', 'Sagittarius'], ['Abhijeet', '18', 'Cancer']]\n"
          ],
          "name": "stdout"
        }
      ]
    },
    {
      "cell_type": "code",
      "metadata": {
        "id": "TEyW_gOAxZan",
        "colab_type": "code",
        "colab": {
          "base_uri": "https://localhost:8080/",
          "height": 51
        },
        "outputId": "fc798393-a419-4ad9-ab9e-4473b7c110b5"
      },
      "source": [
        "with open('Stars.csv','r') as file:\n",
        "    search = input(\"Enter the data you are searching for: \")\n",
        "    reader = csv.reader(file)\n",
        "    for row in reader: \n",
        "        if search in str(row):\n",
        "            print(row)\n",
        "\n",
        "\n",
        "# Asks the user to enter the data they are searching for. \n",
        "# It will display all rows that contain that data anywhere in that row."
      ],
      "execution_count": null,
      "outputs": [
        {
          "output_type": "stream",
          "text": [
            "Enter the data you are searching for: Abhijeet\n",
            "['Abhijeet', '18', 'Cancer']\n"
          ],
          "name": "stdout"
        }
      ]
    },
    {
      "cell_type": "code",
      "metadata": {
        "id": "p370q6wRy2Rx",
        "colab_type": "code",
        "colab": {}
      },
      "source": [
        "# import csv\n",
        "file = list(csv.reader(open('Stars.csv', 'r')))\n",
        "tmp = []\n",
        "for row in file:\n",
        "    tmp.append(row)\n",
        "\n",
        "\n",
        "\n",
        "# A .csv file cannot be altered, only added to. \n",
        "# If you need to alter the file you need to write it to a temporary list. \n",
        "# This block of code will read the original .csv file and write it to a list called \"tmp\"."
      ],
      "execution_count": null,
      "outputs": []
    },
    {
      "cell_type": "code",
      "metadata": {
        "id": "F0XJyw-BzHXS",
        "colab_type": "code",
        "colab": {}
      },
      "source": [
        "file = open(\"NewStars.csv\",\"w\")\n",
        "x = 0\n",
        "for row in tmp:\n",
        "    newRec = tmp[x][0] + \",\" + tmp[x][1] + \",\" + tmp[x][2] + \"\\n\"\n",
        "    file.write(newRec)\n",
        "    x = x + 1\n",
        "file.close()\n",
        "\n",
        "# Writes from a list into a new .csv file called \"NewStars.csv\"."
      ],
      "execution_count": null,
      "outputs": []
    },
    {
      "cell_type": "markdown",
      "metadata": {
        "id": "wm-2uxD4t1IN",
        "colab_type": "text"
      },
      "source": [
        "Create a .csv file that will store the following data. Call it “Books.csv”.\n",
        "\n",
        "![image.png](data:image/png;base64,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)"
      ]
    },
    {
      "cell_type": "code",
      "metadata": {
        "id": "yW-9DKRpuPoX",
        "colab_type": "code",
        "colab": {}
      },
      "source": [
        "import csv \n",
        "\n",
        "file = open(\"Books.csv\",\"w\") \n",
        "newrecord = \"To Kill A Mockingbird, Harper Lee, 1960\\n\" \n",
        "file.write(str(newrecord)) \n",
        "newrecord = \"A Brief History of Time, Stephen Hawking, 1988\\n\" \n",
        "file.write(str(newrecord)) \n",
        "newrecord = \"The Great Gatsby, F. Scott Fitzgerald, 1922\\n\" \n",
        "file.write(str(newrecord)) \n",
        "newrecord = \"The Man Who Mistook His Wife for a Hat, Oliver Sacks, 1985\\n\" \n",
        "file.write(str(newrecord)) \n",
        "newrecord = \"Pride and Prejudice, Jane Austen, 1813\\n\" \n",
        "file.write(str(newrecord)) \n",
        "file.close() \n"
      ],
      "execution_count": null,
      "outputs": []
    },
    {
      "cell_type": "markdown",
      "metadata": {
        "id": "Yl4hY9cJzezj",
        "colab_type": "text"
      },
      "source": [
        "* Import the data from the Books.csv file into a list. \n",
        "* Display the list to the user. \n",
        "* Ask them to select which row from the list they want to delete and remove it from the list. \n",
        "* Ask the user which data they want to change and allow them to change it.\n",
        "* Write the data back to the original .csv file, overwriting the existing data with the amended data."
      ]
    },
    {
      "cell_type": "code",
      "metadata": {
        "id": "_TZHjeW0z4rF",
        "colab_type": "code",
        "colab": {}
      },
      "source": [
        "import csv \n",
        "# file = list(csv.reader(open(\"Books.csv\"))) \n",
        "# Booklist = [] \n",
        "\n",
        "# for row in file: \n",
        "#     Booklist.append(row)\n",
        "    \n",
        "# x = 0 \n",
        "# for row in Booklist: \n",
        "#     display = (x,Booklist[x])\n",
        "#     print(display) \n",
        "#     x = x + 1 \n",
        "    \n",
        "# getrid = int(input(\"Enter a row number to delete: \")) \n",
        "# del Booklist[getrid] \n",
        "\n",
        "# x = 0 \n",
        "# for row in Booklist: \n",
        "#     display = x,Booklist[x] \n",
        "#     print(display) \n",
        "#     x = x + 1 \n",
        "    \n",
        "# alter = int(input(\"Enter a row number to alter: \")) \n",
        "# x = 0 \n",
        "# for row in Booklist[alter]: \n",
        "#     display = x,Booklist[alter][x] \n",
        "#     print(display) \n",
        "#     x = x + 1 \n",
        "    \n",
        "# part = int(input(\"Which part do you want to change? \")) \n",
        "# newdata = input(\"Enter new data: \") \n",
        "# Booklist[alter][part] = newdata \n",
        "# print(Booklist[alter]) \n",
        "\n",
        "file = open(\"Books.csv\",\"w\") \n",
        "x = 0 \n",
        "for row in Booklist: \n",
        "    newrecord = Booklist[x][0] + \", \" + Booklist[x][1] + \", \" + Booklist[x][2] + \"\\n\" \n",
        "    file.write(newrecord) \n",
        "    x = x+1 \n",
        "    \n",
        "file.close() \n"
      ],
      "execution_count": null,
      "outputs": []
    }
  ]
}